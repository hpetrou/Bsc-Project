{
 "cells": [
  {
   "cell_type": "markdown",
   "id": "71b3a01c",
   "metadata": {},
   "source": [
    "# Imports"
   ]
  },
  {
   "cell_type": "code",
   "execution_count": 1,
   "id": "3c332ce7",
   "metadata": {},
   "outputs": [],
   "source": [
    "import sys, os\n",
    "\n",
    "from math import log10\n",
    "from numpy import array, pi\n",
    "\n",
    "import pandas as pd\n",
    "import numpy as np\n",
    "from numpy import concatenate\n",
    "from bisect import bisect_left\n",
    "import pickle\n",
    "import matplotlib.pyplot as plt\n",
    "%matplotlib inline\n",
    "from hist import Hist\n",
    "import hist\n",
    "\n",
    "from sklearn.model_selection import train_test_split, cross_val_score, KFold, StratifiedKFold\n",
    "from sklearn.preprocessing import MinMaxScaler\n",
    "from sklearn.ensemble import AdaBoostClassifier, RandomForestClassifier\n",
    "from sklearn.metrics import zero_one_loss, roc_curve, roc_auc_score, auc, accuracy_score\n",
    "from sklearn.base import clone\n",
    "# algorithms:\n",
    "from sklearn.tree import export_graphviz, DecisionTreeClassifier#, plot_tree, export_text # Available in later versions\n",
    "import graphviz"
   ]
  },
  {
   "cell_type": "markdown",
   "id": "e1e65585",
   "metadata": {},
   "source": [
    "# Import data"
   ]
  },
  {
   "cell_type": "code",
   "execution_count": 14,
   "id": "51d6f5d8",
   "metadata": {},
   "outputs": [
    {
     "data": {
      "text/plain": [
       "Index(['target', 'type', 'runID', 'evtID', 'S2_area', 'S2_btm_area',\n",
       "       'S2_top_area', 'S2_TBA', 'S2_corrected_area', 'S2_XY_corrected_area',\n",
       "       'S2_width_ns', 'S2_peakAmp', 'S2_AFT_5', 'S2_AFT_10', 'S2_AFT_25',\n",
       "       'S2_AFT_50', 'S2_AFT_75', 'S2_AFT_90', 'S2_AFT_95', 'S2_rmsWidth_ns',\n",
       "       'S2_fwhm_ns', 'S2_x_cm', 'S2_y_cm', 'S2_xy_chiSq', 'S2_n_saturated',\n",
       "       'has_good_S1', 'drift_time', 'S1_area', 'S1_corrected_area',\n",
       "       'evt_total_area', 'evt_bad_area', 'evt_bad_e_area', 'evt_bad_ph_area',\n",
       "       'evt_bad_oth_area'],\n",
       "      dtype='object')"
      ]
     },
     "execution_count": 14,
     "metadata": {},
     "output_type": "execute_result"
    }
   ],
   "source": [
    "import pandas as pd\n",
    "import glob\n",
    "import os\n",
    "\n",
    "#if Helen \n",
    "#path = r\"C:\\Users\\hpetr\\Documents\\University\\Year 3\\Bsc Project\\Data\"\n",
    "#if Trinity\n",
    "path = r\"/Users/trinitystenhouse/Documents/University_MSci/2022-3/Project/Bsc-Project\"\n",
    "\n",
    "all_files = [\"S2_only_AND_S1S2_Tritium.csv\", \"gate_data.csv\", \"gas_data.csv\", \"cathode_data.csv\"]\n",
    "\n",
    "li = []\n",
    "for filename in all_files:\n",
    "    df = pd.read_csv(filename, index_col=None, header=0)\n",
    "    li.append(df)\n",
    "\n",
    "df = pd.concat(li, axis=0, ignore_index=True)\n",
    "df.keys()\n"
   ]
  },
  {
   "cell_type": "markdown",
   "id": "72c20f10",
   "metadata": {},
   "source": [
    "# Setup plotting"
   ]
  },
  {
   "cell_type": "code",
   "execution_count": 15,
   "id": "f7a5c970",
   "metadata": {},
   "outputs": [],
   "source": [
    "plt.rcParams['figure.figsize'] = [10, 8]\n",
    "font = {'family' : 'normal','weight' : 'normal','size'   : 22}\n",
    "plt.rc('font', **font)"
   ]
  },
  {
   "cell_type": "markdown",
   "id": "318aef9c",
   "metadata": {},
   "source": [
    "# Parameters"
   ]
  },
  {
   "cell_type": "code",
   "execution_count": 16,
   "id": "8b2057c7",
   "metadata": {},
   "outputs": [],
   "source": [
    "ana_thresh_e = 10\n",
    "electron_size = 58.2"
   ]
  },
  {
   "cell_type": "markdown",
   "id": "9ffde736",
   "metadata": {},
   "source": [
    "# Get data"
   ]
  },
  {
   "cell_type": "code",
   "execution_count": 17,
   "id": "712f7c89",
   "metadata": {},
   "outputs": [
    {
     "data": {
      "text/html": [
       "<div>\n",
       "<style scoped>\n",
       "    .dataframe tbody tr th:only-of-type {\n",
       "        vertical-align: middle;\n",
       "    }\n",
       "\n",
       "    .dataframe tbody tr th {\n",
       "        vertical-align: top;\n",
       "    }\n",
       "\n",
       "    .dataframe thead th {\n",
       "        text-align: right;\n",
       "    }\n",
       "</style>\n",
       "<table border=\"1\" class=\"dataframe\">\n",
       "  <thead>\n",
       "    <tr style=\"text-align: right;\">\n",
       "      <th></th>\n",
       "      <th>target</th>\n",
       "      <th>type</th>\n",
       "      <th>runID</th>\n",
       "      <th>evtID</th>\n",
       "      <th>S2_area</th>\n",
       "      <th>S2_btm_area</th>\n",
       "      <th>S2_top_area</th>\n",
       "      <th>S2_TBA</th>\n",
       "      <th>S2_corrected_area</th>\n",
       "      <th>S2_XY_corrected_area</th>\n",
       "      <th>...</th>\n",
       "      <th>evt_bad_area</th>\n",
       "      <th>evt_bad_e_area</th>\n",
       "      <th>evt_bad_ph_area</th>\n",
       "      <th>evt_bad_oth_area</th>\n",
       "      <th>10_5</th>\n",
       "      <th>25_10</th>\n",
       "      <th>50_25</th>\n",
       "      <th>75_50</th>\n",
       "      <th>90_75</th>\n",
       "      <th>95_90</th>\n",
       "    </tr>\n",
       "  </thead>\n",
       "  <tbody>\n",
       "    <tr>\n",
       "      <th>0</th>\n",
       "      <td>1</td>\n",
       "      <td>Tritium</td>\n",
       "      <td>8136</td>\n",
       "      <td>66354</td>\n",
       "      <td>85.0</td>\n",
       "      <td>280.989014</td>\n",
       "      <td>579.317871</td>\n",
       "      <td>0.346770</td>\n",
       "      <td>970.152954</td>\n",
       "      <td>0.026862</td>\n",
       "      <td>...</td>\n",
       "      <td>184.130497</td>\n",
       "      <td>973.110676</td>\n",
       "      <td>71.456406</td>\n",
       "      <td>0.000000</td>\n",
       "      <td>1130.0</td>\n",
       "      <td>1160.0</td>\n",
       "      <td>1080.0</td>\n",
       "      <td>960.0</td>\n",
       "      <td>1030.0</td>\n",
       "      <td>390.0</td>\n",
       "    </tr>\n",
       "    <tr>\n",
       "      <th>1</th>\n",
       "      <td>1</td>\n",
       "      <td>Tritium</td>\n",
       "      <td>8155</td>\n",
       "      <td>20311</td>\n",
       "      <td>66.0</td>\n",
       "      <td>193.838470</td>\n",
       "      <td>589.805054</td>\n",
       "      <td>0.505289</td>\n",
       "      <td>828.374695</td>\n",
       "      <td>0.028991</td>\n",
       "      <td>...</td>\n",
       "      <td>275.584460</td>\n",
       "      <td>1008.871109</td>\n",
       "      <td>50.091458</td>\n",
       "      <td>0.569708</td>\n",
       "      <td>190.0</td>\n",
       "      <td>270.0</td>\n",
       "      <td>330.0</td>\n",
       "      <td>340.0</td>\n",
       "      <td>330.0</td>\n",
       "      <td>210.0</td>\n",
       "    </tr>\n",
       "    <tr>\n",
       "      <th>2</th>\n",
       "      <td>1</td>\n",
       "      <td>Tritium</td>\n",
       "      <td>8155</td>\n",
       "      <td>21688</td>\n",
       "      <td>82.0</td>\n",
       "      <td>340.851562</td>\n",
       "      <td>937.643555</td>\n",
       "      <td>0.466793</td>\n",
       "      <td>1292.567139</td>\n",
       "      <td>0.043853</td>\n",
       "      <td>...</td>\n",
       "      <td>198.399451</td>\n",
       "      <td>1389.213100</td>\n",
       "      <td>87.546946</td>\n",
       "      <td>0.000000</td>\n",
       "      <td>250.0</td>\n",
       "      <td>420.0</td>\n",
       "      <td>430.0</td>\n",
       "      <td>470.0</td>\n",
       "      <td>450.0</td>\n",
       "      <td>240.0</td>\n",
       "    </tr>\n",
       "    <tr>\n",
       "      <th>3</th>\n",
       "      <td>1</td>\n",
       "      <td>Tritium</td>\n",
       "      <td>8155</td>\n",
       "      <td>22490</td>\n",
       "      <td>76.0</td>\n",
       "      <td>764.374817</td>\n",
       "      <td>1699.066040</td>\n",
       "      <td>0.379425</td>\n",
       "      <td>-999.000000</td>\n",
       "      <td>0.087167</td>\n",
       "      <td>...</td>\n",
       "      <td>978.259415</td>\n",
       "      <td>3379.421276</td>\n",
       "      <td>61.650883</td>\n",
       "      <td>0.000000</td>\n",
       "      <td>160.0</td>\n",
       "      <td>420.0</td>\n",
       "      <td>670.0</td>\n",
       "      <td>630.0</td>\n",
       "      <td>560.0</td>\n",
       "      <td>310.0</td>\n",
       "    </tr>\n",
       "    <tr>\n",
       "      <th>4</th>\n",
       "      <td>1</td>\n",
       "      <td>Tritium</td>\n",
       "      <td>8170</td>\n",
       "      <td>55132</td>\n",
       "      <td>101.0</td>\n",
       "      <td>364.589966</td>\n",
       "      <td>1136.779419</td>\n",
       "      <td>0.514323</td>\n",
       "      <td>1552.668213</td>\n",
       "      <td>0.054341</td>\n",
       "      <td>...</td>\n",
       "      <td>263.321344</td>\n",
       "      <td>1675.346012</td>\n",
       "      <td>89.577138</td>\n",
       "      <td>0.000000</td>\n",
       "      <td>170.0</td>\n",
       "      <td>360.0</td>\n",
       "      <td>360.0</td>\n",
       "      <td>440.0</td>\n",
       "      <td>400.0</td>\n",
       "      <td>220.0</td>\n",
       "    </tr>\n",
       "  </tbody>\n",
       "</table>\n",
       "<p>5 rows × 40 columns</p>\n",
       "</div>"
      ],
      "text/plain": [
       "   target     type  runID  evtID  S2_area  S2_btm_area  S2_top_area    S2_TBA  \\\n",
       "0       1  Tritium   8136  66354     85.0   280.989014   579.317871  0.346770   \n",
       "1       1  Tritium   8155  20311     66.0   193.838470   589.805054  0.505289   \n",
       "2       1  Tritium   8155  21688     82.0   340.851562   937.643555  0.466793   \n",
       "3       1  Tritium   8155  22490     76.0   764.374817  1699.066040  0.379425   \n",
       "4       1  Tritium   8170  55132    101.0   364.589966  1136.779419  0.514323   \n",
       "\n",
       "   S2_corrected_area  S2_XY_corrected_area  ...  evt_bad_area  evt_bad_e_area  \\\n",
       "0         970.152954              0.026862  ...    184.130497      973.110676   \n",
       "1         828.374695              0.028991  ...    275.584460     1008.871109   \n",
       "2        1292.567139              0.043853  ...    198.399451     1389.213100   \n",
       "3        -999.000000              0.087167  ...    978.259415     3379.421276   \n",
       "4        1552.668213              0.054341  ...    263.321344     1675.346012   \n",
       "\n",
       "   evt_bad_ph_area  evt_bad_oth_area    10_5   25_10   50_25  75_50   90_75  \\\n",
       "0        71.456406          0.000000  1130.0  1160.0  1080.0  960.0  1030.0   \n",
       "1        50.091458          0.569708   190.0   270.0   330.0  340.0   330.0   \n",
       "2        87.546946          0.000000   250.0   420.0   430.0  470.0   450.0   \n",
       "3        61.650883          0.000000   160.0   420.0   670.0  630.0   560.0   \n",
       "4        89.577138          0.000000   170.0   360.0   360.0  440.0   400.0   \n",
       "\n",
       "   95_90  \n",
       "0  390.0  \n",
       "1  210.0  \n",
       "2  240.0  \n",
       "3  310.0  \n",
       "4  220.0  \n",
       "\n",
       "[5 rows x 40 columns]"
      ]
     },
     "execution_count": 17,
     "metadata": {},
     "output_type": "execute_result"
    }
   ],
   "source": [
    "\n",
    "# Add differences in AFT values\n",
    "df['10_5']=df['S2_AFT_10']-df['S2_AFT_5']\n",
    "df['25_10']=df['S2_AFT_25']-df['S2_AFT_10']\n",
    "df['50_25']=df['S2_AFT_50']-df['S2_AFT_25']\n",
    "df['75_50']=df['S2_AFT_75']-df['S2_AFT_50']\n",
    "df['90_75']=df['S2_AFT_90']-df['S2_AFT_75']\n",
    "df['95_90']=df['S2_AFT_95']-df['S2_AFT_90']\n",
    "\n",
    "#df['half_width']=df.aft_t1_samples.astype('float64')-df.aft_t05_samples.astype('float64')\n",
    "df.head()"
   ]
  },
  {
   "cell_type": "markdown",
   "id": "d6570a0e",
   "metadata": {},
   "source": [
    "# Re-weight data"
   ]
  },
  {
   "cell_type": "code",
   "execution_count": 18,
   "id": "fbb0a638",
   "metadata": {},
   "outputs": [],
   "source": [
    "electron_axis = hist.axis.Regular(50,0.5,50.5,name=\"electrons\",\n",
    "                           label=\"Extracted electrons\",flow=False)"
   ]
  },
  {
   "cell_type": "code",
   "execution_count": 19,
   "id": "d5aad89f",
   "metadata": {},
   "outputs": [
    {
     "data": {
      "text/plain": [
       "0        14.781905\n",
       "1        13.464665\n",
       "2        21.967270\n",
       "3        42.327162\n",
       "4        25.796725\n",
       "           ...    \n",
       "15805    42.031962\n",
       "15806    45.842613\n",
       "15807    67.637056\n",
       "15808     8.856494\n",
       "15809    42.418820\n",
       "Name: ext_elec, Length: 15810, dtype: float64"
      ]
     },
     "execution_count": 19,
     "metadata": {},
     "output_type": "execute_result"
    }
   ],
   "source": [
    "df['ext_elec'] = (df[\"S2_top_area\"] + df[\"S2_btm_area\"]) /electron_size\n",
    "df['ext_elec']"
   ]
  },
  {
   "cell_type": "code",
   "execution_count": 30,
   "id": "52c79d11",
   "metadata": {},
   "outputs": [
    {
     "data": {
      "image/png": "[encoded data removed]",
      "text/plain": [
       "<Figure size 1000x800 with 1 Axes>"
      ]
     },
     "metadata": {},
     "output_type": "display_data"
    }
   ],
   "source": [
    "gate_hist = Hist(electron_axis)\n",
    "gate_cut = df.type == \"gate\"\n",
    "gate_hist.fill(df.ext_elec[gate_cut])\n",
    "\n",
    "gas_hist = Hist(electron_axis)\n",
    "gas_cut = df.type == \"gas\"\n",
    "gas_hist.fill(df.ext_elec[gas_cut])\n",
    "\n",
    "cath_hist = Hist(electron_axis)\n",
    "cath_cut = df.type == \"cath\"\n",
    "cath_hist.fill(df.ext_elec[cath_cut])\n",
    "\n",
    "trit_hist = Hist(electron_axis)\n",
    "trit_cut = df.type == \"Tritium\"\n",
    "trit_hist.fill(df.ext_elec[trit_cut])\n",
    "\n",
    "fig, ax = plt.subplots(figsize=(10, 8))\n",
    "gate_hist.plot(color='mediumpurple',ls='-',lw=2,yerr=False,label='Gate',ax=ax)\n",
    "gas_hist.plot(color='blue',ls='-',lw=2,yerr=False,label='Gas',ax=ax)\n",
    "cath_hist.plot(color='red',ls='-',lw=2,yerr=False,label='Cathode',ax=ax)\n",
    "trit_hist.plot(color='black',ls='-',lw=2,yerr=False,label='Tritium',ax=ax)\n",
    "plt.ylim(0, 310)\n",
    "ax.set(xlabel='Extracted electrons',ylabel='Counts/e')\n",
    "ax.legend(loc='upper right',frameon=False)\n",
    "\n",
    "plt.show()"
   ]
  },
  {
   "cell_type": "code",
   "execution_count": 69,
   "id": "39923a4f",
   "metadata": {},
   "outputs": [],
   "source": [
    "weight_list = []\n",
    "\n",
    "for ii in range(0, df.shape[0]):\n",
    "    if df.type[ii] == 'gate':\n",
    "        index = np.searchsorted(gate_hist.to_numpy()[1],df.ext_elec[ii]) - 1\n",
    "        bin_counts = gate_hist.to_numpy()[1][index]\n",
    "    elif df.type[ii] == 'gas':\n",
    "        index = np.searchsorted(gas_hist.to_numpy()[1],df.ext_elec[ii]) - 1\n",
    "        bin_counts = gas_hist.to_numpy()[1][index]\n",
    "    elif df.type[ii] == 'cath':\n",
    "        index = np.searchsorted(cath_hist.to_numpy()[1],df.ext_elec[ii]) - 1\n",
    "        bin_counts = cath_hist.to_numpy()[1][index]\n",
    "    elif df.type[ii] == 'Tritium':\n",
    "        index = np.searchsorted(trit_hist.to_numpy()[1],df.ext_elec[ii]) - 1\n",
    "        bin_counts = trit_hist.to_numpy()[1][index]     \n",
    "    weight_list.append(1/bin_counts)\n",
    "        \n",
    "df['weights'] = weight_list"
   ]
  },
  {
   "cell_type": "code",
   "execution_count": 77,
   "id": "419fd923",
   "metadata": {},
   "outputs": [
    {
     "data": {
      "image/png": "[encoded data removed]",
      "text/plain": [
       "<Figure size 1000x800 with 1 Axes>"
      ]
     },
     "metadata": {},
     "output_type": "display_data"
    }
   ],
   "source": [
    "norm_gate_hist = Hist(electron_axis)\n",
    "gate_cut = df.type == \"gate\"\n",
    "norm_gate_hist.fill(df.ext_elec[gate_cut],weight = df.weights[gate_cut])\n",
    "\n",
    "norm_gas_hist = Hist(electron_axis)\n",
    "gas_cut = df.type == \"gas\"\n",
    "norm_gas_hist.fill(df.ext_elec[gas_cut],weight = df.weights[gas_cut])\n",
    "\n",
    "norm_cath_hist = Hist(electron_axis)\n",
    "cath_cut = df.type == \"cath\"\n",
    "norm_cath_hist.fill(df.ext_elec[cath_cut],weight = df.weights[cath_cut])\n",
    "\n",
    "norm_trit_hist = Hist(electron_axis)\n",
    "trit_cut = df.type == \"Tritium\"\n",
    "norm_trit_hist.fill(df.ext_elec[trit_cut],weight = df.weights[trit_cut])\n",
    "\n",
    "fig, ax = plt.subplots(figsize=(10, 8))\n",
    "norm_gate_hist.plot(color='mediumpurple',ls='-',lw=2,yerr=False,label='Gate',ax=ax)\n",
    "norm_gas_hist.plot(color='blue',ls='-',lw=2,yerr=False,label='Gas',ax=ax)\n",
    "norm_cath_hist.plot(color='red',ls='-',lw=2,yerr=False,label='Cathode',ax=ax)\n",
    "norm_trit_hist.plot(color='black',ls='-',lw=2,yerr=False,label='Tritium',ax=ax)\n",
    "\n",
    "ax.set(xlabel='Extracted electrons',ylabel='Counts/e',ylim=[0,30])\n",
    "ax.legend(loc='upper right',frameon=False)\n",
    "\n",
    "plt.show()"
   ]
  },
  {
   "cell_type": "markdown",
   "id": "e4446f73",
   "metadata": {},
   "source": [
    "# Machine learning"
   ]
  },
  {
   "cell_type": "markdown",
   "id": "dac91079",
   "metadata": {},
   "source": [
    "### Prepare data for machine learning"
   ]
  },
  {
   "cell_type": "code",
   "execution_count": 80,
   "id": "2c2a6e95",
   "metadata": {},
   "outputs": [
    {
     "data": {
      "text/plain": [
       "Index(['target', 'type', 'runID', 'evtID', 'S2_area', 'S2_btm_area',\n",
       "       'S2_top_area', 'S2_TBA', 'S2_corrected_area', 'S2_XY_corrected_area',\n",
       "       'S2_width_ns', 'S2_peakAmp', 'S2_AFT_5', 'S2_AFT_10', 'S2_AFT_25',\n",
       "       'S2_AFT_50', 'S2_AFT_75', 'S2_AFT_90', 'S2_AFT_95', 'S2_rmsWidth_ns',\n",
       "       'S2_fwhm_ns', 'S2_x_cm', 'S2_y_cm', 'S2_xy_chiSq', 'S2_n_saturated',\n",
       "       'has_good_S1', 'drift_time', 'S1_area', 'S1_corrected_area',\n",
       "       'evt_total_area', 'evt_bad_area', 'evt_bad_e_area', 'evt_bad_ph_area',\n",
       "       'evt_bad_oth_area', '10_5', '25_10', '50_25', '75_50', '90_75', '95_90',\n",
       "       'ext_elec', 'weights'],\n",
       "      dtype='object')"
      ]
     },
     "execution_count": 80,
     "metadata": {},
     "output_type": "execute_result"
    }
   ],
   "source": [
    "df_ML = df[df.ext_elec > ana_thresh_e]#.loc[:,features]\n",
    "\n",
    "df_ML.keys()"
   ]
  },
  {
   "cell_type": "code",
   "execution_count": 83,
   "id": "25cb8612",
   "metadata": {},
   "outputs": [],
   "source": [
    "features = ['S2_peakAmp','10_5','25_10','50_25', \\\n",
    "            '75_50','90_75','95_90', 'ext_elec']\n",
    "\n",
    "X = df_ML[features]\n",
    "Y = df_ML['target']\n",
    "T = df_ML['type']\n",
    "W = df_ML['weights']\n",
    "A = df_ML['S2_top_area'] + df_ML['S2_btm_area']\n",
    "R = ((df_ML['S2_x_cm'])**2 + (df_ML['S2_y_cm'])**2)**0.5\n",
    "X_raw = df_ML['S2_x_cm']\n",
    "Y_raw = df_ML['S2_y_cm']\n",
    "#L = df_ML['luxstamp']\n",
    "X_train_unscaled, X_test_unscaled, \\\n",
    "Y_train, Y_test, \\\n",
    "A_train, A_test, \\\n",
    "W_train, W_test, \\\n",
    "T_train, T_test, \\\n",
    "R_train, R_test, \\\n",
    "X_raw_train, X_raw_test, \\\n",
    "Y_raw_train, Y_raw_test = train_test_split(X, Y, A, W, T, R, X_raw, Y_raw, random_state=0)"
   ]
  },
  {
   "cell_type": "code",
   "execution_count": 84,
   "id": "e4c6a9de",
   "metadata": {},
   "outputs": [],
   "source": [
    "scaler = MinMaxScaler()\n",
    "X_train = scaler.fit_transform(X_train_unscaled.astype('float64'))\n",
    "X_test = scaler.transform(X_test_unscaled.astype('float64'))"
   ]
  },
  {
   "cell_type": "markdown",
   "id": "6f0ebc17",
   "metadata": {},
   "source": [
    "### Adaptively boosted decision tree"
   ]
  },
  {
   "cell_type": "code",
   "execution_count": 93,
   "id": "d9a9cf6f",
   "metadata": {},
   "outputs": [
    {
     "name": "stderr",
     "output_type": "stream",
     "text": [
      "/Users/trinitystenhouse/.local/lib/python3.9/site-packages/sklearn/ensemble/_base.py:166: FutureWarning: `base_estimator` was renamed to `estimator` in version 1.2 and will be removed in 1.4.\n",
      "  warnings.warn(\n"
     ]
    },
    {
     "data": {
      "text/plain": [
       "(0.7793425008544564, 0.7761453755943641)"
      ]
     },
     "execution_count": 93,
     "metadata": {},
     "output_type": "execute_result"
    }
   ],
   "source": [
    "DTC = DecisionTreeClassifier(max_depth=2,min_samples_split=2)\n",
    "ABC = AdaBoostClassifier(base_estimator=DTC,n_estimators=100,algorithm = 'SAMME')\n",
    "model = ABC.fit(X_train, Y_train.values.ravel()\n",
    "                ,sample_weight=W_train.values.ravel().astype('float64'))\n",
    "\n",
    "Y_score = model.decision_function(X_test)\n",
    "\n",
    "model.score(X_train, Y_train, sample_weight=W_train.astype('float64')), \\\n",
    "model.score(X_test, Y_test, sample_weight=W_test.astype('float64')) "
   ]
  },
  {
   "cell_type": "markdown",
   "id": "0f118889",
   "metadata": {},
   "source": [
    "# Understanding machine learning"
   ]
  },
  {
   "cell_type": "code",
   "execution_count": null,
   "id": "6d96c44a",
   "metadata": {},
   "outputs": [],
   "source": []
  },
  {
   "cell_type": "code",
   "execution_count": null,
   "id": "2919bbbc",
   "metadata": {},
   "outputs": [],
   "source": []
  },
  {
   "cell_type": "code",
   "execution_count": null,
   "id": "f94d78a7",
   "metadata": {},
   "outputs": [],
   "source": []
  },
  {
   "cell_type": "markdown",
   "id": "bd89f815",
   "metadata": {},
   "source": [
    "# Results"
   ]
  },
  {
   "cell_type": "code",
   "execution_count": 89,
   "id": "6130955f",
   "metadata": {},
   "outputs": [
    {
     "name": "stderr",
     "output_type": "stream",
     "text": [
      "/Users/trinitystenhouse/.local/lib/python3.9/site-packages/sklearn/metrics/_ranking.py:1029: UndefinedMetricWarning: No positive samples in y_true, true positive value should be meaningless\n",
      "  warnings.warn(\n"
     ]
    }
   ],
   "source": [
    "FPR, TPR, TH = roc_curve(Y_test,Y_score,sample_weight = W_test,pos_label = 2)"
   ]
  },
  {
   "cell_type": "code",
   "execution_count": 90,
   "id": "5985d954",
   "metadata": {},
   "outputs": [
    {
     "data": {
      "text/plain": [
       "array([ 1.60860697,  0.60860697,  0.59965649, ..., -0.58775015,\n",
       "       -0.58790214, -0.6535325 ])"
      ]
     },
     "execution_count": 90,
     "metadata": {},
     "output_type": "execute_result"
    }
   ],
   "source": [
    "TH"
   ]
  },
  {
   "cell_type": "code",
   "execution_count": 91,
   "id": "caf3f45f",
   "metadata": {},
   "outputs": [
    {
     "data": {
      "text/plain": [
       "array([nan, nan, nan, ..., nan, nan, nan])"
      ]
     },
     "execution_count": 91,
     "metadata": {},
     "output_type": "execute_result"
    }
   ],
   "source": [
    "TPR"
   ]
  },
  {
   "cell_type": "code",
   "execution_count": 92,
   "id": "718f7f4f",
   "metadata": {},
   "outputs": [
    {
     "data": {
      "text/plain": [
       "array([ 0.23178099, -0.03438415,  0.03464888, ...,  0.08705253,\n",
       "       -0.42861878,  0.37778808])"
      ]
     },
     "execution_count": 92,
     "metadata": {},
     "output_type": "execute_result"
    }
   ],
   "source": [
    "Y_score"
   ]
  },
  {
   "cell_type": "code",
   "execution_count": null,
   "id": "13388861",
   "metadata": {},
   "outputs": [],
   "source": []
  }
 ],
 "metadata": {
  "kernelspec": {
   "display_name": "Python 3 (ipykernel)",
   "language": "python",
   "name": "python3"
  },
  "language_info": {
   "codemirror_mode": {
    "name": "ipython",
    "version": 3
   },
   "file_extension": ".py",
   "mimetype": "text/x-python",
   "name": "python",
   "nbconvert_exporter": "python",
   "pygments_lexer": "ipython3",
   "version": "3.9.13"
  }
 },
 "nbformat": 4,
 "nbformat_minor": 5
}
